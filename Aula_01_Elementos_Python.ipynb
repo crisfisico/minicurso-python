{
  "nbformat": 4,
  "nbformat_minor": 2,
  "metadata": {
    "colab": {
      "name": "Aula-01-Elementos-Python.ipynb",
      "provenance": [],
      "collapsed_sections": [
        "Qop175BjSRWq",
        "zFgUAHVCSWo4",
        "Ii9qkyzSa0zR",
        "iSgkthh7cMYU",
        "Sm-D44Dre1BC",
        "r_RAbhGYgvp_",
        "JUA6a0V3hnAi",
        "hj1UKr1UjEOs",
        "j20m7_WiEYMC",
        "3WHJW-PdVp92",
        "nND-hzKeWz52",
        "uT6uwpBBaLKN",
        "BuAIEcnhe8PS",
        "2Df7btQTiXgQ"
      ],
      "authorship_tag": "ABX9TyOEJ0/XD06BkVlq7e4eKi04",
      "include_colab_link": true
    },
    "kernelspec": {
      "name": "python3",
      "display_name": "Python 3"
    },
    "language_info": {
      "name": "python"
    }
  },
  "cells": [
    {
      "cell_type": "markdown",
      "source": [
        "<a href=\"https://colab.research.google.com/github/crisfisico/minicurso-python/blob/main/Aula_01_Elementos_Python.ipynb\" target=\"_parent\"><img src=\"https://colab.research.google.com/assets/colab-badge.svg\" alt=\"Open In Colab\"/></a>"
      ],
      "metadata": {
        "id": "view-in-github",
        "colab_type": "text"
      }
    },
    {
      "cell_type": "markdown",
      "source": [
        "## A versao em uso do Python"
      ],
      "metadata": {
        "id": "vRaP4TALQe27"
      }
    },
    {
      "cell_type": "code",
      "execution_count": null,
      "source": [
        "!python --version"
      ],
      "outputs": [
        {
          "output_type": "stream",
          "name": "stdout",
          "text": [
            "Python 3.7.11\n"
          ]
        }
      ],
      "metadata": {
        "colab": {
          "base_uri": "https://localhost:8080/"
        },
        "id": "T_w5Ic0fOwF2",
        "outputId": "4599b4a2-2417-4643-f5ad-52bd114ef499"
      }
    },
    {
      "cell_type": "markdown",
      "source": [
        "## Saiba mais:\n",
        "\n",
        "[w3schools.com/python](https://www.w3schools.com/PYTHON/)\n",
        "\n",
        "[https://pynative.com/](https://pynative.com/)"
      ],
      "metadata": {
        "id": "vz4fy4MKSpJK"
      }
    },
    {
      "cell_type": "markdown",
      "source": [
        "## Tipos de dados"
      ],
      "metadata": {
        "id": "bO80AmjvSAw9"
      }
    },
    {
      "cell_type": "markdown",
      "source": [
        "## Numérico"
      ],
      "metadata": {}
    },
    {
      "cell_type": "markdown",
      "source": [
        "### inteiro: int"
      ],
      "metadata": {
        "id": "zFgUAHVCSWo4"
      }
    },
    {
      "cell_type": "code",
      "execution_count": null,
      "source": [
        "x = 10\n",
        "print(\"x =\",x)\n",
        "print(type(x))"
      ],
      "outputs": [
        {
          "output_type": "stream",
          "name": "stdout",
          "text": [
            "x = 10\n",
            "<class 'int'>\n"
          ]
        }
      ],
      "metadata": {
        "colab": {
          "base_uri": "https://localhost:8080/"
        },
        "id": "JRyS75viPGB4",
        "outputId": "a25c7e0d-aae1-4324-db2d-21255f12fdef"
      }
    },
    {
      "cell_type": "code",
      "execution_count": null,
      "source": [
        "y = int(20)\n",
        "print(y)\n",
        "print(type(y))"
      ],
      "outputs": [
        {
          "output_type": "stream",
          "name": "stdout",
          "text": [
            "20\n",
            "<class 'int'>\n"
          ]
        }
      ],
      "metadata": {
        "colab": {
          "base_uri": "https://localhost:8080/"
        },
        "id": "3sHpZ-FQSqsE",
        "outputId": "038c4837-dbae-4691-f154-f8ecc3be61dc"
      }
    },
    {
      "cell_type": "markdown",
      "source": [
        "### decimal: float"
      ],
      "metadata": {
        "id": "aNBiBmQEUH0t"
      }
    },
    {
      "cell_type": "code",
      "execution_count": null,
      "source": [
        "# m eh a massa da particula\n",
        "m = 80.30 # [m]=kg\n",
        "print(m)\n",
        "print(type(m))"
      ],
      "outputs": [
        {
          "output_type": "stream",
          "name": "stdout",
          "text": [
            "80.3\n",
            "<class 'float'>\n"
          ]
        }
      ],
      "metadata": {
        "colab": {
          "base_uri": "https://localhost:8080/"
        },
        "id": "wThjFVveTpmj",
        "outputId": "4261c2e2-055b-4cf0-bb70-23f764c2a3cb"
      }
    },
    {
      "cell_type": "code",
      "execution_count": null,
      "source": [
        "# massa terra - notacao cientifica\n",
        "massa_t = 5.972e24 # [m]=kg\n",
        "print(massa_t)\n",
        "print(type(massa_t))"
      ],
      "outputs": [
        {
          "output_type": "stream",
          "name": "stdout",
          "text": [
            "5.972e+24\n",
            "<class 'float'>\n"
          ]
        }
      ],
      "metadata": {
        "colab": {
          "base_uri": "https://localhost:8080/"
        },
        "id": "T85moFiaUW_J",
        "outputId": "555e57a1-4dc9-4092-ab11-1a0e81ede6a4"
      }
    },
    {
      "cell_type": "markdown",
      "source": [
        "### num complexo: complex"
      ],
      "metadata": {
        "id": "ACT1CZ0aaE9U"
      }
    },
    {
      "cell_type": "code",
      "execution_count": null,
      "source": [
        "z = 9+8j\n",
        "print(z)\n",
        "print(type(z))"
      ],
      "outputs": [
        {
          "output_type": "stream",
          "name": "stdout",
          "text": [
            "(9+8j)\n",
            "<class 'complex'>\n"
          ]
        }
      ],
      "metadata": {
        "colab": {
          "base_uri": "https://localhost:8080/"
        },
        "id": "JovrLZeVZ8PM",
        "outputId": "7972d613-4882-4d74-9e3e-bb15a5733e1f"
      }
    },
    {
      "cell_type": "markdown",
      "source": [
        "## Sequencia"
      ],
      "metadata": {
        "id": "Ii9qkyzSa0zR"
      }
    },
    {
      "cell_type": "markdown",
      "source": [
        "### string: str"
      ],
      "metadata": {
        "id": "zZLrKAbSa9Gv"
      }
    },
    {
      "cell_type": "code",
      "execution_count": null,
      "source": [
        "my_str = 'Python' \n",
        "print(my_str)\n",
        "print(type(my_str))"
      ],
      "outputs": [
        {
          "output_type": "stream",
          "name": "stdout",
          "text": [
            "Python\n",
            "<class 'str'>\n"
          ]
        }
      ],
      "metadata": {
        "colab": {
          "base_uri": "https://localhost:8080/"
        },
        "id": "cs7aIoIbaZfU",
        "outputId": "6b2e57b3-9f76-42fd-e57e-cc2ce4d92413"
      }
    },
    {
      "cell_type": "code",
      "execution_count": null,
      "source": [
        "# acessando caracteres\n",
        "print(my_str[0])\n",
        "print(my_str[1])\n",
        "print(my_str[2])\n",
        "print(my_str[3])\n",
        "print(my_str[4])\n",
        "print(my_str[5])\n",
        "#print(my_str[6]) # nao existe!"
      ],
      "outputs": [
        {
          "output_type": "stream",
          "name": "stdout",
          "text": [
            "P\n",
            "y\n",
            "t\n",
            "h\n",
            "o\n",
            "n\n"
          ]
        }
      ],
      "metadata": {
        "colab": {
          "base_uri": "https://localhost:8080/"
        },
        "id": "5jOBDyGnbIYg",
        "outputId": "60c68ef6-5bf9-474f-bb8c-c43dcfab65de"
      }
    },
    {
      "cell_type": "markdown",
      "source": [
        "### Lista: list"
      ],
      "metadata": {
        "id": "iSgkthh7cMYU"
      }
    },
    {
      "cell_type": "code",
      "execution_count": null,
      "source": [
        "my_list = ['banana','abacate','laranja','pera']\n",
        "print(my_list)\n",
        "print(type(my_list))"
      ],
      "outputs": [
        {
          "output_type": "stream",
          "name": "stdout",
          "text": [
            "['banana', 'abacate', 'laranja', 'pera']\n",
            "<class 'list'>\n"
          ]
        }
      ],
      "metadata": {
        "colab": {
          "base_uri": "https://localhost:8080/"
        },
        "id": "tIDFYbOjbqvu",
        "outputId": "0d9830b0-27d8-47be-faa6-d4d0e447b06f"
      }
    },
    {
      "cell_type": "code",
      "execution_count": null,
      "source": [
        "print(my_list[0])\n",
        "print(my_list[-1]) #equiv a [3]\n",
        "print(my_list[-2])"
      ],
      "outputs": [
        {
          "output_type": "stream",
          "name": "stdout",
          "text": [
            "banana\n",
            "pera\n",
            "laranja\n"
          ]
        }
      ],
      "metadata": {
        "colab": {
          "base_uri": "https://localhost:8080/"
        },
        "id": "FwVJRkWUcZ1l",
        "outputId": "265a97ed-9b69-4bdf-f83c-72a15ad9ae29"
      }
    },
    {
      "cell_type": "code",
      "execution_count": null,
      "source": [
        "# slicing \n",
        "print(my_list[:]) #todos itens\n",
        "print(my_list[0:2])\n",
        "print(my_list[:2])\n"
      ],
      "outputs": [
        {
          "output_type": "stream",
          "name": "stdout",
          "text": [
            "['banana', 'abacate', 'laranja', 'pera']\n",
            "['banana', 'abacate']\n",
            "['banana', 'abacate']\n"
          ]
        }
      ],
      "metadata": {
        "colab": {
          "base_uri": "https://localhost:8080/"
        },
        "id": "m1KqAeSoc6c0",
        "outputId": "35e6e823-ccf7-46e4-897e-1c710470b435"
      }
    },
    {
      "cell_type": "code",
      "execution_count": null,
      "source": [
        "## modificando um item da lista\n",
        "print(my_list)\n",
        "my_list[0] = 'uva'\n",
        "print(my_list)"
      ],
      "outputs": [
        {
          "output_type": "stream",
          "name": "stdout",
          "text": [
            "['banana', 'abacate', 'laranja', 'pera']\n",
            "['uva', 'abacate', 'laranja', 'pera']\n"
          ]
        }
      ],
      "metadata": {
        "colab": {
          "base_uri": "https://localhost:8080/"
        },
        "id": "7M_y5zitfckQ",
        "outputId": "cac41f2a-7ac7-4f5e-b6a8-d442a0acb6a4"
      }
    },
    {
      "cell_type": "code",
      "execution_count": null,
      "source": [
        "#print(my_list[start:end:step])\n",
        "print(my_list[::3]) # dois em dois"
      ],
      "outputs": [
        {
          "output_type": "stream",
          "name": "stdout",
          "text": [
            "['banana', 'pera']\n"
          ]
        }
      ],
      "metadata": {
        "colab": {
          "base_uri": "https://localhost:8080/"
        },
        "id": "_eNC9syKdqIq",
        "outputId": "20d70880-bb7b-4297-b8ae-ef3040f1fb5a"
      }
    },
    {
      "cell_type": "markdown",
      "source": [
        "### tuple"
      ],
      "metadata": {
        "id": "Sm-D44Dre1BC"
      }
    },
    {
      "cell_type": "code",
      "execution_count": null,
      "source": [
        "my_tuple = (11,25,78,43.9)\n",
        "print(my_tuple)\n",
        "print(type(my_tuple))\n",
        "my_tuple[0] = 5 # TypeError!"
      ],
      "outputs": [
        {
          "output_type": "stream",
          "name": "stdout",
          "text": [
            "(11, 25, 78, 43.9)\n",
            "<class 'tuple'>\n"
          ]
        },
        {
          "output_type": "error",
          "ename": "TypeError",
          "evalue": "ignored",
          "traceback": [
            "\u001b[0;31m---------------------------------------------------------------------------\u001b[0m",
            "\u001b[0;31mTypeError\u001b[0m                                 Traceback (most recent call last)",
            "\u001b[0;32m<ipython-input-44-025aa526c7f7>\u001b[0m in \u001b[0;36m<module>\u001b[0;34m()\u001b[0m\n\u001b[1;32m      2\u001b[0m \u001b[0mprint\u001b[0m\u001b[0;34m(\u001b[0m\u001b[0mmy_tuple\u001b[0m\u001b[0;34m)\u001b[0m\u001b[0;34m\u001b[0m\u001b[0;34m\u001b[0m\u001b[0m\n\u001b[1;32m      3\u001b[0m \u001b[0mprint\u001b[0m\u001b[0;34m(\u001b[0m\u001b[0mtype\u001b[0m\u001b[0;34m(\u001b[0m\u001b[0mmy_tuple\u001b[0m\u001b[0;34m)\u001b[0m\u001b[0;34m)\u001b[0m\u001b[0;34m\u001b[0m\u001b[0;34m\u001b[0m\u001b[0m\n\u001b[0;32m----> 4\u001b[0;31m \u001b[0mmy_tuple\u001b[0m\u001b[0;34m[\u001b[0m\u001b[0;36m0\u001b[0m\u001b[0;34m]\u001b[0m \u001b[0;34m=\u001b[0m \u001b[0;36m5\u001b[0m\u001b[0;34m\u001b[0m\u001b[0;34m\u001b[0m\u001b[0m\n\u001b[0m",
            "\u001b[0;31mTypeError\u001b[0m: 'tuple' object does not support item assignment"
          ]
        }
      ],
      "metadata": {
        "colab": {
          "base_uri": "https://localhost:8080/",
          "height": 245
        },
        "id": "PlS415E-eWyk",
        "outputId": "64a0c646-04ca-4c73-c984-4a3f50035d73"
      }
    },
    {
      "cell_type": "code",
      "execution_count": null,
      "source": [
        "my_tuple\n",
        "my_list"
      ],
      "outputs": [
        {
          "output_type": "execute_result",
          "data": {
            "text/plain": [
              "['uva', 'abacate', 'laranja', 'pera']"
            ]
          },
          "metadata": {
            "tags": []
          },
          "execution_count": 46
        }
      ],
      "metadata": {
        "colab": {
          "base_uri": "https://localhost:8080/"
        },
        "id": "PzLF-kvLfDqH",
        "outputId": "a5730e7f-d5dc-43f3-adea-d1ad10500b98"
      }
    },
    {
      "cell_type": "markdown",
      "source": [
        "## Conjunto: Set"
      ],
      "metadata": {
        "id": "r_RAbhGYgvp_"
      }
    },
    {
      "cell_type": "code",
      "execution_count": null,
      "source": [
        "my_set = {100, 40, 'uva'}\n",
        "print(my_set)\n",
        "print(type(my_set))"
      ],
      "outputs": [
        {
          "output_type": "stream",
          "name": "stdout",
          "text": [
            "{40, 100, 'uva'}\n",
            "<class 'set'>\n"
          ]
        }
      ],
      "metadata": {
        "colab": {
          "base_uri": "https://localhost:8080/"
        },
        "id": "uVhqY0Qwf7pI",
        "outputId": "42afddf8-9558-4058-a652-816dfacf21e1"
      }
    },
    {
      "cell_type": "code",
      "execution_count": null,
      "source": [
        "my_set[0] #TypeError"
      ],
      "outputs": [
        {
          "output_type": "error",
          "ename": "TypeError",
          "evalue": "ignored",
          "traceback": [
            "\u001b[0;31m---------------------------------------------------------------------------\u001b[0m",
            "\u001b[0;31mTypeError\u001b[0m                                 Traceback (most recent call last)",
            "\u001b[0;32m<ipython-input-48-158c424478a1>\u001b[0m in \u001b[0;36m<module>\u001b[0;34m()\u001b[0m\n\u001b[0;32m----> 1\u001b[0;31m \u001b[0mmy_set\u001b[0m\u001b[0;34m[\u001b[0m\u001b[0;36m0\u001b[0m\u001b[0;34m]\u001b[0m\u001b[0;34m\u001b[0m\u001b[0;34m\u001b[0m\u001b[0m\n\u001b[0m",
            "\u001b[0;31mTypeError\u001b[0m: 'set' object is not subscriptable"
          ]
        }
      ],
      "metadata": {
        "colab": {
          "base_uri": "https://localhost:8080/",
          "height": 171
        },
        "id": "fQevHYrFhK6Q",
        "outputId": "d8035133-b9d4-4ee1-c195-72e9e1a09010"
      }
    },
    {
      "cell_type": "markdown",
      "source": [
        "## Dicionario: dict"
      ],
      "metadata": {
        "id": "JUA6a0V3hnAi"
      }
    },
    {
      "cell_type": "code",
      "execution_count": null,
      "source": [
        "my_dict = {'nome':'maria','idade':25,'fone':41999}\n",
        "print(my_dict)\n",
        "print(type(my_dict))"
      ],
      "outputs": [
        {
          "output_type": "stream",
          "name": "stdout",
          "text": [
            "{'nome': 'maria', 'idade': 25, 'fone': 41999}\n",
            "<class 'dict'>\n"
          ]
        }
      ],
      "metadata": {
        "colab": {
          "base_uri": "https://localhost:8080/"
        },
        "id": "13jk9reOhbpv",
        "outputId": "137f336c-86d8-4220-ea8e-2afa5497251d"
      }
    },
    {
      "cell_type": "code",
      "execution_count": null,
      "source": [
        "print(my_dict['nome'])\n",
        "print(my_dict['idade'])"
      ],
      "outputs": [
        {
          "output_type": "stream",
          "name": "stdout",
          "text": [
            "maria\n",
            "25\n"
          ]
        }
      ],
      "metadata": {
        "colab": {
          "base_uri": "https://localhost:8080/"
        },
        "id": "x_LfHdn4iC37",
        "outputId": "f5089742-7119-423d-f08f-dbde7e401b3b"
      }
    },
    {
      "cell_type": "code",
      "execution_count": null,
      "source": [
        "tabela = {\"tempo\":[0,1,2],\"posicao\": [1.3,5.8,10.0]}\n",
        "print(tabela)"
      ],
      "outputs": [
        {
          "output_type": "stream",
          "name": "stdout",
          "text": [
            "{'tempo': [0, 1, 2], 'posicao': [1.3, 5.8, 10.0]}\n"
          ]
        }
      ],
      "metadata": {
        "colab": {
          "base_uri": "https://localhost:8080/"
        },
        "id": "Hg_syVDziUZB",
        "outputId": "f903fe94-fd15-49ab-e0cf-9f1f04d54f64"
      }
    },
    {
      "cell_type": "code",
      "execution_count": null,
      "source": [
        "print(tabela['tempo'])"
      ],
      "outputs": [
        {
          "output_type": "stream",
          "name": "stdout",
          "text": [
            "[0, 1, 2]\n"
          ]
        }
      ],
      "metadata": {
        "colab": {
          "base_uri": "https://localhost:8080/"
        },
        "id": "-1z8VIz2ipTo",
        "outputId": "110b27cd-4054-45fa-fae3-966d03e0db06"
      }
    },
    {
      "cell_type": "markdown",
      "source": [
        "## Booleano: Bool"
      ],
      "metadata": {
        "id": "hj1UKr1UjEOs"
      }
    },
    {
      "cell_type": "code",
      "execution_count": null,
      "source": [
        "var1, var2 = True, False\n",
        "print(var1,var2)\n",
        "print(type(var1),type(var2))\n"
      ],
      "outputs": [
        {
          "output_type": "stream",
          "name": "stdout",
          "text": [
            "True False\n",
            "<class 'bool'> <class 'bool'>\n"
          ]
        }
      ],
      "metadata": {
        "colab": {
          "base_uri": "https://localhost:8080/"
        },
        "id": "8EQZdOYMixXX",
        "outputId": "d49932bf-04a1-41a6-ee51-d518ea68320e"
      }
    },
    {
      "cell_type": "code",
      "execution_count": null,
      "source": [
        "var = [1,2,[3,4]]"
      ],
      "outputs": [],
      "metadata": {
        "id": "3eej3LJjjQ5K"
      }
    },
    {
      "cell_type": "code",
      "execution_count": null,
      "source": [
        "var[2][0]"
      ],
      "outputs": [
        {
          "output_type": "execute_result",
          "data": {
            "text/plain": [
              "3"
            ]
          },
          "metadata": {
            "tags": []
          },
          "execution_count": 63
        }
      ],
      "metadata": {
        "colab": {
          "base_uri": "https://localhost:8080/"
        },
        "id": "IdmFeqdGxwzK",
        "outputId": "1a8cae45-984e-46e3-a709-d538eadc36d3"
      }
    },
    {
      "cell_type": "code",
      "execution_count": null,
      "source": [
        "my_list = [1,2,'a',3.4]\n",
        "print(my_list[2])"
      ],
      "outputs": [
        {
          "output_type": "stream",
          "name": "stdout",
          "text": [
            "a\n"
          ]
        }
      ],
      "metadata": {
        "id": "1VLghFQaxyXh",
        "colab": {
          "base_uri": "https://localhost:8080/"
        },
        "outputId": "7377b0ca-2330-4457-d099-ac36ac202a73"
      }
    },
    {
      "cell_type": "code",
      "execution_count": null,
      "source": [
        "my_list = [1,2,[6,7]]\n",
        "print(my_list)\n",
        "print(my_list[2][0])"
      ],
      "outputs": [
        {
          "output_type": "stream",
          "name": "stdout",
          "text": [
            "[1, 2, [6, 7]]\n",
            "6\n"
          ]
        }
      ],
      "metadata": {
        "colab": {
          "base_uri": "https://localhost:8080/"
        },
        "id": "Nrg3GUedU4Cp",
        "outputId": "b21ad35e-03a9-4b4b-fae6-dbe31fa9b809"
      }
    },
    {
      "cell_type": "markdown",
      "source": [
        "# Perguntas da ultima aula:"
      ],
      "metadata": {
        "id": "j20m7_WiEYMC"
      }
    },
    {
      "cell_type": "code",
      "execution_count": null,
      "source": [
        "# O que aconteceria se eu fizesse: x = int(2.3)? "
      ],
      "outputs": [],
      "metadata": {
        "id": "5DqeVA8cEcl7"
      }
    },
    {
      "cell_type": "code",
      "execution_count": null,
      "source": [
        "# O que aconteceria se eu fizesse: x = str(1) e depois definisse y = x + x\n",
        "# Faz sentido o resultado obtido? Porque?"
      ],
      "outputs": [],
      "metadata": {
        "id": "gHE98-fhEt5D"
      }
    },
    {
      "cell_type": "code",
      "execution_count": null,
      "source": [
        "# defina my_dict = {'a':1,'b':2,'c':3,'d':4} e de um print\": my_dict; my_dict.keys(); my_dict.values(); my_dict.items() "
      ],
      "outputs": [],
      "metadata": {
        "id": "s-etuj7oFJ1G"
      }
    },
    {
      "cell_type": "markdown",
      "source": [
        "# Operadores"
      ],
      "metadata": {
        "id": "HZbCOYB6Vmwf"
      }
    },
    {
      "cell_type": "markdown",
      "source": [
        "## Aritméticos"
      ],
      "metadata": {
        "id": "3WHJW-PdVp92"
      }
    },
    {
      "cell_type": "code",
      "execution_count": null,
      "source": [
        "x = 5\n",
        "y = 2\n",
        "print(x + y) # Adicao\n",
        "print(x - y) #diferenca\n",
        "print(x * y) # multiplicacao\n",
        "print(x / y) # divisao\n",
        "print(x // y) # Floor division\n",
        "print(x % y) # modulus\n",
        "print(x ** y) # Exponenciacao\n",
        "\n",
        "# Tarefas:\n",
        "# 1) de um print do type de cada uma das operacoes acima, o que vc pode afirmar sobre o type final?;\n",
        "# 2) defina y = 0.5 e refaça as os prints acima;\n",
        "# 3) de um print do type de cada uma das operacoes par y=0.5, o que vc pode afirmar sobre o type final?;"
      ],
      "outputs": [],
      "metadata": {
        "id": "KFvgiOjuVpDF"
      }
    },
    {
      "cell_type": "code",
      "execution_count": null,
      "source": [
        "((a-b)/b)*u"
      ],
      "outputs": [
        {
          "output_type": "execute_result",
          "data": {
            "text/plain": [
              "0.3333333333333333"
            ]
          },
          "metadata": {
            "tags": []
          },
          "execution_count": 16
        }
      ],
      "metadata": {
        "colab": {
          "base_uri": "https://localhost:8080/"
        },
        "id": "UsJtWIv4XVIZ",
        "outputId": "fe8e7091-29b0-4f71-b763-0a160282fe0f"
      }
    },
    {
      "cell_type": "markdown",
      "source": [
        "## Lógicos"
      ],
      "metadata": {
        "id": "nND-hzKeWz52"
      }
    },
    {
      "cell_type": "code",
      "execution_count": null,
      "source": [
        "t,f = True,False\n",
        "print(t)\n",
        "print(f)\n",
        "print(t,f)\n",
        "print(type(t))"
      ],
      "outputs": [
        {
          "output_type": "stream",
          "name": "stdout",
          "text": [
            "True\n",
            "False\n",
            "True False\n",
            "<class 'bool'>\n"
          ]
        }
      ],
      "metadata": {
        "colab": {
          "base_uri": "https://localhost:8080/"
        },
        "id": "1HfoY2S6V2tR",
        "outputId": "ecf672a2-d369-4a57-dc3d-52b7ceff2fc8"
      }
    },
    {
      "cell_type": "code",
      "execution_count": null,
      "source": [
        "print(t and f) # \"E\" LOGICO\n",
        "print(t or f)  # \"OU\" LOGICO\n",
        "print(not f)   # \"NAO\" LOGICO\n",
        "print(t != f)  # \"XOR\" LOGICO (DIFERENTE)"
      ],
      "outputs": [],
      "metadata": {
        "id": "_dc4g4BkW9gM"
      }
    },
    {
      "cell_type": "markdown",
      "source": [
        "## Relacionais"
      ],
      "metadata": {
        "id": "uT6uwpBBaLKN"
      }
    },
    {
      "cell_type": "code",
      "execution_count": null,
      "source": [
        "x = 10\n",
        "y = 7\n",
        "z = 3\n",
        "# > maior que \"greater than\"\n",
        "print(x>y)   # True\n",
        "print(x>y>z) #True\n",
        "\n",
        "# < menor que \"less than\"\n",
        "print(x<y)\n",
        "print(y<x)\n",
        "\n",
        "# == Igual a \"equal to\"\n",
        "print(x==y) \n",
        "print(x==10)\n",
        "\n",
        "# != não igual (diferente)\n",
        "print(x != y) \n",
        "print(x != 10)\n",
        "\n",
        "# >= maior ou igual a \"greater than or equal to\"\n",
        "print(x >=y)\n",
        "print(x >=10)\n",
        "\n",
        "# <= menor ou igual a \"less than or equal to\"\n",
        "print(x <= y)"
      ],
      "outputs": [],
      "metadata": {
        "id": "l2RWyJgTZAgF"
      }
    },
    {
      "cell_type": "code",
      "execution_count": null,
      "source": [
        "## atribuição\n",
        "\n",
        "a = 7\n",
        "b = 2\n",
        "print(a,b)\n",
        "\n",
        "a += b # a = a + b\n",
        "print(a,b)\n",
        "\n",
        "a = 7\n",
        "b = 2\n",
        "a -= b # a = a - b\n",
        "print(a,b)\n",
        "\n",
        "a=7\n",
        "b=2\n",
        "a *= b # a = a*b\n",
        "print(a,b)\n",
        "\n",
        "a=7\n",
        "b=2\n",
        "a /= b # a = a/b\n",
        "print(a,b)\n",
        "\n",
        "# tarefa: testar os casos // (floor) e % (modulus), seguindo a mesma logica"
      ],
      "outputs": [
        {
          "output_type": "stream",
          "name": "stdout",
          "text": [
            "7 2\n",
            "9 2\n",
            "5 2\n",
            "14 2\n",
            "3.5 2\n"
          ]
        }
      ],
      "metadata": {
        "colab": {
          "base_uri": "https://localhost:8080/"
        },
        "id": "RmKJcYlJdlH4",
        "outputId": "198fbde6-39d7-4332-9e26-f9c5d1aab2f0"
      }
    },
    {
      "cell_type": "markdown",
      "source": [
        "# Estruturas de controle"
      ],
      "metadata": {
        "id": "BuAIEcnhe8PS"
      }
    },
    {
      "cell_type": "code",
      "execution_count": null,
      "source": [
        "## IF (SE)\n",
        "\n",
        "number = 10\n",
        "if number > 11:\n",
        "  print(number)\n",
        "  print(number*number)"
      ],
      "outputs": [],
      "metadata": {
        "id": "PHPGFs7Habzg"
      }
    },
    {
      "cell_type": "code",
      "execution_count": null,
      "source": [
        "## IF (SE)\n",
        "\n",
        "number = 10\n",
        "if number > 11:\n",
        "  print(number)\n",
        "print(number*number)"
      ],
      "outputs": [
        {
          "output_type": "stream",
          "name": "stdout",
          "text": [
            "100\n"
          ]
        }
      ],
      "metadata": {
        "colab": {
          "base_uri": "https://localhost:8080/"
        },
        "id": "cRWFQDuPf-iR",
        "outputId": "54a92fe8-a517-4f9b-d59e-88d4c3854b6a"
      }
    },
    {
      "cell_type": "code",
      "execution_count": null,
      "source": [
        "## IF-ELSE\n",
        "\n",
        "number = 10\n",
        "if number > 11:\n",
        "  print('é maior que 11')\n",
        "else:\n",
        "  print('é menor que 11')"
      ],
      "outputs": [
        {
          "output_type": "stream",
          "name": "stdout",
          "text": [
            "é menor que 11\n"
          ]
        }
      ],
      "metadata": {
        "colab": {
          "base_uri": "https://localhost:8080/"
        },
        "id": "fUueveE_gi09",
        "outputId": "1b8614f3-4bef-4668-e848-7a0dfd42b983"
      }
    },
    {
      "cell_type": "markdown",
      "source": [
        "# loop FOR"
      ],
      "metadata": {
        "id": "2Df7btQTiXgQ"
      }
    },
    {
      "cell_type": "code",
      "execution_count": null,
      "source": [
        "for i in [1,2,3,4]:\n",
        "  print(i)"
      ],
      "outputs": [
        {
          "output_type": "stream",
          "name": "stdout",
          "text": [
            "1\n",
            "2\n",
            "3\n",
            "4\n"
          ]
        }
      ],
      "metadata": {
        "colab": {
          "base_uri": "https://localhost:8080/"
        },
        "id": "ag7LkOmRh500",
        "outputId": "480e58ee-eda7-446b-c772-d3fe653faac6"
      }
    },
    {
      "cell_type": "code",
      "execution_count": null,
      "source": [
        "my_list = [1,2,3,4]\n",
        "for i in my_list:\n",
        "  print(i)"
      ],
      "outputs": [
        {
          "output_type": "stream",
          "name": "stdout",
          "text": [
            "1\n",
            "2\n",
            "3\n",
            "4\n"
          ]
        }
      ],
      "metadata": {
        "colab": {
          "base_uri": "https://localhost:8080/"
        },
        "id": "M-uukx1FiqDN",
        "outputId": "36d69ca8-c78d-4ab2-b90c-5b32f05700af"
      }
    },
    {
      "cell_type": "code",
      "execution_count": null,
      "source": [
        "my_list = ['banana','pera','uva']\n",
        "for i in my_list:\n",
        "  print(i)"
      ],
      "outputs": [
        {
          "output_type": "stream",
          "name": "stdout",
          "text": [
            "banana\n",
            "pera\n",
            "uva\n"
          ]
        }
      ],
      "metadata": {
        "colab": {
          "base_uri": "https://localhost:8080/"
        },
        "id": "zP5564CBi0Ff",
        "outputId": "049ea13e-5624-43a7-b5c5-8ad044d4a172"
      }
    },
    {
      "cell_type": "code",
      "execution_count": null,
      "source": [
        "my_tuple = (1,2,3,4)\n",
        "for i in my_tuple:\n",
        "  print(i)\n"
      ],
      "outputs": [
        {
          "output_type": "stream",
          "name": "stdout",
          "text": [
            "1\n",
            "2\n",
            "3\n",
            "4\n"
          ]
        }
      ],
      "metadata": {
        "colab": {
          "base_uri": "https://localhost:8080/"
        },
        "id": "Y-2DoqF_jDKy",
        "outputId": "5a538ce8-8e6d-4564-cd87-8b1c58f9b21f"
      }
    },
    {
      "cell_type": "code",
      "execution_count": null,
      "source": [
        "n = 10\n",
        "for i in range(n):\n",
        "  print(i)"
      ],
      "outputs": [
        {
          "output_type": "stream",
          "name": "stdout",
          "text": [
            "0\n",
            "1\n",
            "2\n",
            "3\n",
            "4\n",
            "5\n",
            "6\n",
            "7\n",
            "8\n",
            "9\n"
          ]
        }
      ],
      "metadata": {
        "colab": {
          "base_uri": "https://localhost:8080/"
        },
        "id": "zKUH4_u5jWP5",
        "outputId": "4c65c346-85da-47fd-ffb4-1f38c1a144ef"
      }
    },
    {
      "cell_type": "markdown",
      "source": [
        "# Importando bibliotecas (modulos)"
      ],
      "metadata": {
        "id": "YvsVPA-umbHb"
      }
    },
    {
      "cell_type": "code",
      "execution_count": null,
      "source": [
        "import math\n",
        "print(math.sqrt(2))\n",
        "print(math.factorial(3))"
      ],
      "outputs": [
        {
          "output_type": "stream",
          "name": "stdout",
          "text": [
            "1.4142135623730951\n",
            "6\n"
          ]
        }
      ],
      "metadata": {
        "colab": {
          "base_uri": "https://localhost:8080/"
        },
        "id": "F_V4X8mHksGX",
        "outputId": "298c0ac7-db4b-42d3-f0bc-6676d2ddb17a"
      }
    },
    {
      "cell_type": "code",
      "execution_count": null,
      "source": [
        "from math import factorial\n",
        "print(math.factorial(3))\n",
        "print(factorial(3))"
      ],
      "outputs": [
        {
          "output_type": "stream",
          "name": "stdout",
          "text": [
            "6\n",
            "6\n"
          ]
        }
      ],
      "metadata": {
        "colab": {
          "base_uri": "https://localhost:8080/"
        },
        "id": "xo4lUaLim6Cx",
        "outputId": "3eb65bee-aa13-41d1-f65c-6fdbe573d86d"
      }
    }
  ]
}